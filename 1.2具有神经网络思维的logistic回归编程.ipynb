{
 "cells": [
  {
   "cell_type": "markdown",
   "source": [
    "Logistic Regression with a Neural Network mindset\n",
    "====\n",
    "Welcome to your first (required) programming assignment! You will build a logistic regression classifier to recognize cats. This assignment will step you through how to do this with a Neural Network mindset, and so will also hone your intuitions about deep learning.\n",
    "\n",
    "Instructions:\n",
    "----\n",
    "do not use loops (for/while) in your code, unless the instructions explicitly ask you to do so.<br>\n",
    "<br>\n",
    "\n",
    "\n",
    "You will learn to:\n",
    "----\n",
    "Build the general architecture of a learning algorithm, including:<br>\n",
    "+ Initializing parameters<br>\n",
    "+ Calculating the cost function and its gradient<br>\n",
    "+ Using an optimization algorithm (gradient descent)<br>\n",
    "+ Gather all three functions above into a main model function, in the right order."
   ],
   "metadata": {
    "collapsed": false,
    "pycharm": {
     "name": "#%% md\n"
    }
   }
  },
  {
   "cell_type": "markdown",
   "source": [
    "1 - Packages\n",
    "----\n",
    "First, let's run the cell below to import all the packages that you will need during this assignment.\n",
    "\n",
    "* numpy is the fundamental package for scientific computing with Python.<br>\n",
    "* h5py is a common package to interact with a dataset that is stored on an H5 file.<br>\n",
    "* matplotlib is a famous library to plot graphs in Python.<br>\n",
    "* PIL and scipy are used here to test your model with your own picture at the end."
   ],
   "metadata": {
    "collapsed": false
   }
  },
  {
   "cell_type": "code",
   "execution_count": 87,
   "outputs": [],
   "source": [
    "import numpy as np\n",
    "import matplotlib.pyplot as plt\n",
    "import h5py\n",
    "import scipy\n",
    "from PIL import Image\n",
    "from scipy import ndimage\n",
    "\n",
    "%matplotlib inline\n",
    "# 读取数据\n",
    "def load_dataset():\n",
    "    with h5py.File('datasets/train_catvnoncat.h5', \"r\") as train_dataset:\n",
    "        train_set_x_orig = np.array(train_dataset[\"train_set_x\"][:])\n",
    "        train_set_y_orig = np.array(train_dataset[\"train_set_y\"][:])\n",
    "\n",
    "    with h5py.File('datasets/test_catvnoncat.h5', \"r\") as test_dataset:\n",
    "        test_set_x_orig = np.array(test_dataset[\"test_set_x\"][:])\n",
    "        test_set_y_orig = np.array(test_dataset[\"test_set_y\"][:])\n",
    "        classes = np.array(test_dataset[\"list_classes\"][:])\n",
    "\n",
    "    train_set_y_orig = train_set_y_orig.reshape((1, train_set_y_orig.shape[0]))\n",
    "    test_set_y_orig = test_set_y_orig.reshape((1, test_set_y_orig.shape[0]))\n",
    "\n",
    "    return train_set_x_orig, train_set_y_orig, test_set_x_orig, test_set_y_orig, classes"
   ],
   "metadata": {
    "collapsed": false,
    "pycharm": {
     "name": "#%%\n"
    }
   }
  },
  {
   "cell_type": "markdown",
   "source": [
    "2 - Overview of the Problem set\n",
    "Problem Statement: You are given a dataset (\"data.h5\") containing:\n",
    "\n",
    "- a training set of m_train images labeled as cat (y=1) or non-cat (y=0)\n",
    "- a test set of m_test images labeled as cat or non-cat\n",
    "- each image is of shape (num_px, num_px, 3) where 3 is for the 3 channels (RGB). Thus, each image is square (height = num_px) and (width = num_px).\n",
    "\n",
    "You will build a simple image-recognition algorithm that can correctly classify pictures as cat or non-cat.\n",
    "\n",
    "Let's get more familiar with the dataset. Load the data by running the following code."
   ],
   "metadata": {
    "collapsed": false,
    "pycharm": {
     "name": "#%% md\n"
    }
   }
  },
  {
   "cell_type": "code",
   "execution_count": 88,
   "outputs": [],
   "source": [
    "train_set_x_orig, train_set_y, test_set_x_orig, test_set_y, classes = load_dataset()\n",
    "\n",
    "# We added \"_orig\" at the end of image datasets (train and test)\n",
    "# because we are going to preprocess them.\n",
    "# After preprocessing, we will end up with train_set_x and test_set_x\n",
    "# (the labels train_set_y and test_set_y don't need any preprocessing).\n",
    "\n",
    "# train_set_x_orig (209.64.64,3)\n",
    "# train_set_y (1,209)\n",
    "# test_set_x_orig (50,64,64,3)\n",
    "# test_set_y (1,50)\n",
    "m_train = train_set_y.shape[1]\n",
    "m_test = test_set_y.shape[1]\n",
    "num_px = train_set_x_orig.shape[1]"
   ],
   "metadata": {
    "collapsed": false,
    "pycharm": {
     "name": "#%%\n"
    }
   }
  },
  {
   "cell_type": "code",
   "execution_count": 89,
   "outputs": [
    {
     "name": "stdout",
     "output_type": "stream",
     "text": [
      "y = [1], it's a 'cat' picture.\n"
     ]
    },
    {
     "data": {
      "text/plain": "<Figure size 432x288 with 1 Axes>",
      "image/png": "[encoded data removed]"
     },
     "metadata": {
      "needs_background": "light"
     },
     "output_type": "display_data"
    }
   ],
   "source": [
    "# Example of a picture\n",
    "index = 25\n",
    "plt.imshow(train_set_x_orig[index])\n",
    "print (\"y = \" + str(train_set_y[:,index]) + \", it's a '\" + classes[np.squeeze(train_set_y[:,index])].\\\n",
    "       decode(\"utf-8\") +  \"' picture.\")"
   ],
   "metadata": {
    "collapsed": false,
    "pycharm": {
     "name": "#%%\n"
    }
   }
  },
  {
   "cell_type": "markdown",
   "source": [
    "TASK 1\n",
    "\n",
    "For convenience, you should now reshape images of shape (num_px, num_px, 3) in a numpy-array of shape (num_px $*$ num_px $*$ 3, 1). After this, our training (and test) dataset is a numpy-array\n",
    " where each column represents a flattened image. There should be m_train (respectively m_test) columns.\n",
    "\n",
    "**Exercise**: Reshape the training and test data sets so that images of size (num_px, num_px, 3) are flattened into single vectors of shape (num_px $*$ num_px $*$ 3, 1).\n",
    "\n",
    "A trick when you want to flatten a matrix X of shape (a,b,c,d) to a matrix X_flatten of shape (b$*$c$*$d, a) is to use:\n",
    "\n",
    "        X_flatten = X.reshape(X.shape[0], -1).T      # X.T is the transpose of X\n"
   ],
   "metadata": {
    "collapsed": false,
    "pycharm": {
     "name": "#%% md\n"
    }
   }
  },
  {
   "cell_type": "code",
   "execution_count": 90,
   "outputs": [
    {
     "name": "stdout",
     "output_type": "stream",
     "text": [
      "Train sets shape:  (12288, 209)\n",
      "Test sets shape:  (12288, 209)\n"
     ]
    }
   ],
   "source": [
    "train_set_x_flatten = train_set_x_orig.reshape(train_set_x_orig.shape[0],-1).T\n",
    "test_set_x_flatten = test_set_x_orig.reshape(test_set_x_orig.shape[0], -1).T\n",
    "print(\"Train sets shape: \", train_set_x_flatten.shape)\n",
    "print(\"Test sets shape: \", train_set_x_flatten.shape)\n",
    "\n",
    "# standardize by dividing 255 (255 RGM Colors)\n",
    "train_set_x = train_set_x_flatten / 255.\n",
    "test_set_x = test_set_x_flatten / 255."
   ],
   "metadata": {
    "collapsed": false,
    "pycharm": {
     "name": "#%%\n"
    }
   }
  },
  {
   "cell_type": "markdown",
   "source": [
    "3 - General Architecture of the learning algorithm\n",
    "====\n",
    "Logistic Regreesion:  <br>\n",
    "\n",
    "$z(i) = w^T * X + b$ <br>\n",
    "$\\hat{y} = sigmod(Z(i))$ <br>\n",
    "$L(y, \\hat{y}) = -y(i) * log(\\hat{y}) - (1-y(i)) * log(1-\\hat{y}) $ <br>\n",
    "%J(y, \\hat{y}) = 1/m * sum(L(y, \\hat{y}))%\n",
    "\n",
    "steps:\n",
    "----\n",
    "- Initialize the parameters of the model\n",
    "- Learn the parameters for the model by minimizing the cost\n",
    "- Use the learned parameters to make predictions (on the test set)\n",
    "- Analyse the results and conclude"
   ],
   "metadata": {
    "collapsed": false,
    "pycharm": {
     "name": "#%% md\n"
    }
   }
  },
  {
   "cell_type": "code",
   "source": [
    "# Using your code from \"Python Basics\", implement sigmoid().\n",
    "# As you've seen in the figure above, you need to compute $sigmoid( w^T x + b)$ to make predictions.\n",
    "def sigmoid(z):\n",
    "    return 1/(1+np.exp(-z))\n",
    "\n",
    "print (\"sigmoid(0) = \" + str(sigmoid(0)))\n",
    "print (\"sigmoid(9.2) = \" + str(sigmoid(9.2)))"
   ],
   "metadata": {
    "collapsed": false,
    "pycharm": {
     "name": "#%% Exercise 2\n"
    }
   },
   "execution_count": 91,
   "outputs": [
    {
     "name": "stdout",
     "output_type": "stream",
     "text": [
      "sigmoid(0) = 0.5\n",
      "sigmoid(9.2) = 0.9998989708060922\n"
     ]
    }
   ]
  },
  {
   "cell_type": "code",
   "execution_count": 92,
   "outputs": [
    {
     "name": "stdout",
     "output_type": "stream",
     "text": [
      "w = [[0.]\n",
      " [0.]]\n",
      "b = 0\n"
     ]
    }
   ],
   "source": [
    "# Implement parameter initialization in the cell below.\n",
    "# You have to initialize w as a vector of zeros.\n",
    "\n",
    "def initialize_with_zeros(dim):\n",
    "    \"\"\"\n",
    "    :param dim: refers to the dimensions of vector w (dim, 1)\n",
    "    :return: parameters w, b\n",
    "    \"\"\"\n",
    "    w = np.zeros(dim).reshape(dim, 1)\n",
    "    b = 0\n",
    "    assert (w.shape==(dim, 1))\n",
    "    assert (isinstance(b, float) or isinstance(b, int))\n",
    "    return w, b\n",
    "\n",
    "# test:\n",
    "\n",
    "w, b = initialize_with_zeros(2)\n",
    "print (\"w = \" + str(w))\n",
    "print (\"b = \" + str(b))"
   ],
   "metadata": {
    "collapsed": false,
    "pycharm": {
     "name": "#%% Exercise 3\n"
    }
   }
  },
  {
   "cell_type": "markdown",
   "source": [
    "4 - Forward and Backward propagation¶\n",
    "====\n",
    "Exercise: Implement a function propagate() that computes the cost function and its gradient.\n",
    "Forward Propagation:\n",
    "\n",
    "You get X\n",
    "You compute $A = \\sigma(w^T X + b) = (a^{(0)}, a^{(1)}, ..., a^{(m-1)}, a^{(m)})$\n",
    "You calculate the cost function: $J = -\\frac{1}{m}\\sum_{i=1}^{m}y^{(i)}\\log(a^{(i)})+(1-y^{(i)})\\log(1-a^{(i)})$\n"
   ],
   "metadata": {
    "collapsed": false,
    "pycharm": {
     "name": "#%% md\n"
    }
   }
  },
  {
   "cell_type": "code",
   "execution_count": 93,
   "outputs": [],
   "source": [
    "def propagate(w, b, X, Y):\n",
    "    \"\"\"\n",
    "\n",
    "    :param w: weights\n",
    "    :param b: bias\n",
    "    :param X: data\n",
    "    :param Y: labels\n",
    "    :return: grads {} ; cost\n",
    "    \"\"\"\n",
    "\n",
    "    m = X.shape[1]\n",
    "    A = sigmoid(np.dot(w.T, X) + b) # forward propagation\n",
    "    cost = (- 1/m) * np.sum(Y*np.log(A) + (1-Y)*np.log(1-A))\n",
    "    dw = (1/m) * np.dot(X, (A-Y).T)\n",
    "    db = (1/m) * np.sum((A-Y))\n",
    "\n",
    "    assert(dw.shape == w.shape)\n",
    "    assert(db.dtype == float)\n",
    "    cost = np.squeeze(cost)\n",
    "    assert(cost.shape == ())\n",
    "\n",
    "    grads = {\"dw\": dw, \"db\": db}\n",
    "    return grads, cost\n"
   ],
   "metadata": {
    "collapsed": false,
    "pycharm": {
     "name": "#%%\n"
    }
   }
  },
  {
   "cell_type": "code",
   "execution_count": 94,
   "outputs": [
    {
     "name": "stdout",
     "output_type": "stream",
     "text": [
      "dw = [[0.99993216]\n",
      " [1.99980262]]\n",
      "db = 0.49993523062470574\n",
      "cost = 6.000064773192205\n"
     ]
    }
   ],
   "source": [
    "# test:\n",
    "w, b, X, Y = np.array([[1], [2]]), 2, np.array([[1,2], [3,4]]), np.array([[1, 0]])\n",
    "grads, cost = propagate(w, b, X, Y)\n",
    "print (\"dw = \" + str(grads[\"dw\"]))\n",
    "print (\"db = \" + str(grads[\"db\"]))\n",
    "print (\"cost = \" + str(cost))"
   ],
   "metadata": {
    "collapsed": false,
    "pycharm": {
     "name": "#%%\n"
    }
   }
  },
  {
   "cell_type": "markdown",
   "source": [
    "d) Optimization\n",
    "You have initialized your parameters. <br>\n",
    "You are also able to compute a cost function and its gradient. <br>\n",
    "Now, you want to update the parameters using gradient descent."
   ],
   "metadata": {
    "collapsed": false,
    "pycharm": {
     "name": "#%% md\n"
    }
   }
  },
  {
   "cell_type": "code",
   "execution_count": 95,
   "outputs": [
    {
     "name": "stdout",
     "output_type": "stream",
     "text": [
      "[0 of 1000]: current cost is 6.000064773192205 \n",
      "[100 of 1000]: current cost is 1.4313999565615696 \n",
      "[200 of 1000]: current cost is 0.5554617961544774 \n",
      "[300 of 1000]: current cost is 0.5391805662202398 \n",
      "[400 of 1000]: current cost is 0.5246238207538814 \n",
      "[500 of 1000]: current cost is 0.5106492233396783 \n",
      "[600 of 1000]: current cost is 0.49722953462440267 \n",
      "[700 of 1000]: current cost is 0.4843396735082923 \n",
      "[800 of 1000]: current cost is 0.4719555813859543 \n",
      "[900 of 1000]: current cost is 0.460054211080552 \n",
      "{'w': array([[-0.98731056],\n",
      "       [-0.19170416]]), 'b': 1.8978031995333131}\n"
     ]
    }
   ],
   "source": [
    "def optimize(w, b, X, Y, num_iterations, learning_rate, print_cost = False):\n",
    "    costs = []\n",
    "    cur = 0\n",
    "    while cur < num_iterations:\n",
    "        iter_grads, iter_cost = propagate(w,b,X,Y)\n",
    "        dw = iter_grads['dw']\n",
    "        db = iter_grads['db']\n",
    "        # use gradient descent methods:\n",
    "        w = w - learning_rate * dw\n",
    "        b = b - learning_rate * db\n",
    "\n",
    "        # store cost and enter next iteration\n",
    "        costs.append(iter_cost)\n",
    "        # print cost every 100 iterations:\n",
    "        if cur % 100 == 0:\n",
    "            print(\"[%s of %s]: current cost is %s \" %(cur, num_iterations, iter_cost))\n",
    "        cur+=1\n",
    "\n",
    "    params = {\"w\": w,\n",
    "              \"b\": b}\n",
    "\n",
    "    grads = {\"dw\":dw, \"db\":db}\n",
    "\n",
    "    return params, grads, costs\n",
    "\n",
    "# test\n",
    "params, grads, costs = optimize(w, b, X, Y, num_iterations= 1000, learning_rate = 0.009, print_cost = False)\n",
    "print(params)"
   ],
   "metadata": {
    "collapsed": false,
    "pycharm": {
     "name": "#%%\n"
    }
   }
  },
  {
   "cell_type": "markdown",
   "source": [
    "Exercise: The previous function will output the learned w and b. We are able to use w and b to predict the labels for a dataset X. Implement the predict() function. There is two steps to computing predictions:\n",
    "\n",
    "Calculate $\\hat{Y} = A = \\sigma(w^T X + b)$\n",
    "\n",
    "Convert the entries of a into 0 (if activation <= 0.5) or 1 (if activation > 0.5), stores the predictions in a vector Y_prediction. If you wish, you can use an if/else statement in a for loop (though there is also a way to vectorize this).\n"
   ],
   "metadata": {
    "collapsed": false,
    "pycharm": {
     "name": "#%% md\n"
    }
   }
  },
  {
   "cell_type": "code",
   "execution_count": 96,
   "outputs": [
    {
     "name": "stdout",
     "output_type": "stream",
     "text": [
      "predictions = [[1. 1.]]\n"
     ]
    }
   ],
   "source": [
    "def predict(w, b, X):\n",
    "    m = X.shape[1]\n",
    "    Y_prediction = np.zeros((1, m))\n",
    "    w = w.reshape(X.shape[0], 1)\n",
    "    A = sigmoid(np.dot(w.T, X) + b)\n",
    "    for i in range(A.shape[1]):\n",
    "        Y_prediction[0, i] = 1 if A[0, i] > 0.5 else 0\n",
    "\n",
    "    assert(Y_prediction.shape == (1, m))\n",
    "    return Y_prediction\n",
    "\n",
    "print(\"predictions = \" + str(predict(w, b, X)))"
   ],
   "metadata": {
    "collapsed": false,
    "pycharm": {
     "name": "#%%\n"
    }
   }
  },
  {
   "cell_type": "code",
   "execution_count": 97,
   "outputs": [],
   "source": [
    "_w, _b = initialize_with_zeros(train_set_x.shape[0])"
   ],
   "metadata": {
    "collapsed": false,
    "pycharm": {
     "name": "#%% 5 - Merge all functions into a model¶\n"
    }
   }
  },
  {
   "cell_type": "code",
   "execution_count": 97,
   "outputs": [],
   "source": [],
   "metadata": {
    "collapsed": false,
    "pycharm": {
     "name": "#%%\n"
    }
   }
  },
  {
   "cell_type": "code",
   "execution_count": 99,
   "outputs": [
    {
     "name": "stdout",
     "output_type": "stream",
     "text": [
      "[0 of 2000]: current cost is 0.6931471805599453 \n",
      "[100 of 2000]: current cost is 0.5845083636993085 \n",
      "[200 of 2000]: current cost is 0.4669490409465547 \n",
      "[300 of 2000]: current cost is 0.37600686694802077 \n",
      "[400 of 2000]: current cost is 0.3314632893282512 \n",
      "[500 of 2000]: current cost is 0.303273067474383 \n",
      "[600 of 2000]: current cost is 0.27987958658260487 \n",
      "[700 of 2000]: current cost is 0.2600421369258757 \n",
      "[800 of 2000]: current cost is 0.2429406846779662 \n",
      "[900 of 2000]: current cost is 0.22800422256726066 \n",
      "[1000 of 2000]: current cost is 0.2148195137844964 \n",
      "[1100 of 2000]: current cost is 0.20307819060644985 \n",
      "[1200 of 2000]: current cost is 0.1925442771670686 \n",
      "[1300 of 2000]: current cost is 0.18303333796883509 \n",
      "[1400 of 2000]: current cost is 0.17439859438448876 \n",
      "[1500 of 2000]: current cost is 0.16652139705400335 \n",
      "[1600 of 2000]: current cost is 0.15930451829756614 \n",
      "[1700 of 2000]: current cost is 0.152667324712965 \n",
      "[1800 of 2000]: current cost is 0.1465422350398234 \n",
      "[1900 of 2000]: current cost is 0.14087207570310162 \n",
      "train accuracy: 99.04306220095694 %\n",
      "test accurace: 70.0 %\n"
     ]
    }
   ],
   "source": [
    "def lr_nn(X_train, Y_train, X_test, Y_test, num_iterations=2000, learning_rate=0.5, print_cost=False):\n",
    "    # 1 init\n",
    "    _w, _b = initialize_with_zeros(X_train.shape[0])\n",
    "    # 2 gradients descent\n",
    "    params, grads, costs = optimize(_w, _b, X_train, Y_train, num_iterations, learning_rate, print_cost)\n",
    "    # 3 predict\n",
    "    w , b = params[\"w\"] , params[\"b\"]\n",
    "    Y_outsample = predict(w, b, X_test)\n",
    "    Y_insample  = predict(w, b, X_train)\n",
    "    # Print train/test Errors\n",
    "    print(\"train accuracy: {} %\".format(\n",
    "        100 - np.mean(np.abs(Y_insample - Y_train)) * 100))\n",
    "    print(\"test accurace: {} %\".format (\n",
    "        100 - np.mean(np.abs(Y_outsample - Y_test)) * 100))\n",
    "    d = {\"costs\": costs,\n",
    "         \"Y_prediction_test\": Y_outsample,\n",
    "         \"Y_prediction_train\" : Y_insample,\n",
    "         \"w\" : params[\"w\"],\n",
    "         \"b\" : params[\"b\"],\n",
    "         \"learning_rate\" : learning_rate,\n",
    "         \"num_iterations\": num_iterations}\n",
    "    return d\n",
    "\n",
    "# try out models:\n",
    "d = lr_nn(train_set_x, train_set_y, test_set_x, test_set_y, num_iterations = 2000, learning_rate = 0.005, print_cost = True)"
   ],
   "metadata": {
    "collapsed": false,
    "pycharm": {
     "name": "#%%\n"
    }
   }
  }
 ],
 "metadata": {
  "kernelspec": {
   "name": "pycharm-4f455f8",
   "language": "python",
   "display_name": "PyCharm (01.知识库)"
  },
  "language_info": {
   "codemirror_mode": {
    "name": "ipython",
    "version": 2
   },
   "file_extension": ".py",
   "mimetype": "text/x-python",
   "name": "python",
   "nbconvert_exporter": "python",
   "pygments_lexer": "ipython2",
   "version": "2.7.6"
  }
 },
 "nbformat": 4,
 "nbformat_minor": 0
}